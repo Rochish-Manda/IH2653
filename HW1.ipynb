{
 "cells": [
  {
   "cell_type": "code",
   "execution_count": 1,
   "id": "organizational-monster",
   "metadata": {
    "tags": []
   },
   "outputs": [],
   "source": [
    "%%capture\n",
    "import math\n",
    "!python3 -m pip install matplotlib\n",
    "import matplotlib.pyplot as plt\n",
    "import matplotlib.gridspec as gridspec\n",
    "%matplotlib inline\n",
    "plt.style.use('seaborn-v0_8-whitegrid')\n",
    "from matplotlib.legend_handler import HandlerTuple\n",
    "import matplotlib.ticker as tickerbb\n",
    "!pip install scipy\n",
    "!pip freeze > requirements.txt\n",
    "#!pip freeze | grep -v -f requirements.txt - | grep -v '^#' | grep -v '^-e ' | xargs pip uninstall -y"
   ]
  },
  {
   "cell_type": "markdown",
   "id": "scheduled-voltage",
   "metadata": {},
   "source": [
    "<br><hr>\n",
    "# Abstract"
   ]
  },
  {
   "cell_type": "markdown",
   "id": "figured-earth",
   "metadata": {},
   "source": [
    "This compact model MOSFET IV simulation work pertains to 130nm and 45nm CMOS technology nodes, using nanoHUB's '**[Nano-CMOS](https://nanohub.org/tools/nanocmos/)**' tool."
   ]
  },
  {
   "cell_type": "markdown",
   "id": "honey-celebration",
   "metadata": {},
   "source": [
    "<br><hr>\n",
    "# Table of Contents"
   ]
  },
  {
   "cell_type": "markdown",
   "id": "unable-english",
   "metadata": {},
   "source": [
    "- **[Part I: 130nm NMOS Output and Transfer $IV$](#section_1)**\n",
    "    - **[Simulations at $T = 218K\\text{, }300K\\text{ }\\&\\text{ }398K$](#section_1_1)**\n",
    "        - **[Summary](#section_1_1_1)**\n",
    "- **[Part II: 130nm PMOS Output and Transfer $IV$](#section_2)**\n",
    "    - **[Simulations at $T = 218K\\text{, }300K\\text{ }\\&\\text{ }398K$](#section_2_1)**\n",
    "        - **[Summary](#section_2_1_1)**\n",
    "- **[Part III: 130nm NMOS model parameter extraction](#section_3)**\n",
    "    - **[$T$ Parameters for $V_T$](#section_3_1)**\n",
    "        - **[Summary](#section_3_1_1)**\n",
    "    - **[$T$ Parameters for $\\mu$](#section_3_2)**\n",
    "        - **[Summary](#section_3_2_1)**\n",
    "- **[Part IV: 45nm NMOS corner simulations](#section_4)**\n",
    "    - **[Key model parameters for N, FF, SS corners](#section_4_1)**\n",
    "        - **[Summary](#section_4_1_1)**\n",
    "- **[References](#References)**"
   ]
  },
  {
   "cell_type": "markdown",
   "id": "comfortable-disaster",
   "metadata": {},
   "source": [
    "<br><hr>\n",
    "# Part I: 130nm NMOS Output and Transfer $IV$ <a class=\"anchor\" id=\"section_1\"></a>"
   ]
  },
  {
   "cell_type": "markdown",
   "id": "abroad-jaguar",
   "metadata": {},
   "source": [
    "## Simulations at $T = \\text{ min, }\\text{nominal }\\&\\text{ max}$ <a class=\"anchor\" id=\"section_1_1\"></a>"
   ]
  },
  {
   "cell_type": "markdown",
   "id": "20233d2a-5bec-447b-970a-494d7783a36c",
   "metadata": {},
   "source": [
    "| | $T = 218K$ | $T = 300K$ | $T = 398K$ |\n",
    "|:-:|:-:|:-:|:-:|\n",
    "| Output IV | <img src=\"N130/N130_IdsvsVds_218.png\"> | <img src=\"N130/N130_IdsvsVds_300.png\"> | <img src=\"N130/N130_IdsvsVds_398.png\"> |\n",
    "| Transfer IV | <img src=\"N130/N130_logIdsvsVgs_218.png\"> | <img src=\"N130/N130_logIdsvsVgs_300.png\"> | <img src=\"N130/N130_logIdsvsVgs_398.png\"> |\n"
   ]
  },
  {
   "cell_type": "markdown",
   "id": "standing-benjamin",
   "metadata": {},
   "source": [
    "### Summary <a class=\"anchor\" id=\"section_1_1_1\"></a>\n",
    "\n",
    "1. $I_d$ vs $V_d \\forall V_g$ plots of 130nm NMOS transistor can be seen to follow the generic MOSFET IV trend:\n",
    "<a id=\"eq1\"></a>\n",
    "$$\n",
    "\\begin{equation}\\tag{1}\n",
    "I_d = \\frac{W}{L}\\cdot C_{oxe}\\cdot \\mu \\cdot(V_g - V_T - \\frac{1}{2}V_d)\\cdot V_d\n",
    "\\end{equation}\n",
    "$$\n",
    "2. $\\log I_d$ vs $V_g \\forall V_d$ plots of 130nm NMOS transistor indicate the linear subthreshold region leading up to the first curvature transition point ($V_{T}$). This linear region can be represented by the following equation:\n",
    "<a id=\"eq2\"></a>\n",
    "$$\n",
    "\\begin{equation}\\tag{2}\n",
    "I_{d} = 100\\cdot \\frac{W}{L}\\cdot 10^{\\frac{q(V_g-V_T)}{\\eta kT}} = 100\\cdot \\frac{W}{L}\\cdot 10^{\\frac{(V_g-V_T)}{S}}\n",
    "\\end{equation}\n",
    "$$\n",
    "3. From the above plots it can be observed that the effect of increasing $T$ leads to a corresponding lowering of $V_{T}$, and hence following from [Eq. (1)](#eq1) \\& [Eq. (2)](#eq2) it can also be observed to lead to a higher $I_d$ in the above plots. \n"
   ]
  },
  {
   "cell_type": "markdown",
   "id": "golden-occasion",
   "metadata": {},
   "source": [
    "<br><hr>\n",
    "# Part II: 130nm PMOS Output and Transfer $IV$ <a class=\"anchor\" id=\"section_2\"></a>"
   ]
  },
  {
   "cell_type": "markdown",
   "id": "worth-harassment",
   "metadata": {},
   "source": [
    "## Simulations at $T = \\text{ min, }\\text{nominal }\\&\\text{ max}$ <a class=\"anchor\" id=\"section_2_1\"></a>"
   ]
  },
  {
   "cell_type": "markdown",
   "id": "d1317f6d-766a-4531-ad6b-4031c43f40d5",
   "metadata": {},
   "source": [
    "| | $T = 218K$ | $T = 300K$ | $T = 398K$ |\n",
    "|:-:|:-:|:-:|:-:|\n",
    "| Output IV | <img src=\"P130/P130_IdsvsVds_218.png\"> | <img src=\"P130/P130_IdsvsVds_300.png\"> | <img src=\"P130/P130_IdsvsVds_398.png\"> |\n",
    "| Transfer IV | <img src=\"P130/P130_logIdsvsVgs_218.png\"> | <img src=\"P130/P130_logIdsvsVgs_300.png\"> | <img src=\"P130/P130_logIdsvsVgs_398.png\"> |\n"
   ]
  },
  {
   "cell_type": "markdown",
   "id": "f9b63386-8bae-4401-83d9-4cf505886bc8",
   "metadata": {},
   "source": [
    "### Summary <a class=\"anchor\" id=\"section_2_1_1\"></a>\n",
    "\n",
    "1. $I_d$ vs $V_d \\forall V_g$ plots of 130nm PMOS transistor can be seen to follow the same generic MOSFET IV trend as [Eq. (1)](#eq1) (with a lower $\\mu$ than NMOS).\n",
    "2. $\\log I_d$ vs $V_g \\forall V_d$ plots of 130nm PMOS transistor indicate the linear subthreshold region leading up to the first curvature transition point ($V_{T}$). This linear region can be represented by an equation similar to [Eq. (2)](#eq2).\n",
    "3. From the above plots it can be observed that the effect of increasing $T$ leads to a corresponding lowering of $V_{T}$, and hence following from [Eq. (1)](#eq1) \\& [Eq. (2)](#eq2) it can also be observed to lead to a higher $I_d$ in the above plots. \n",
    "4. Except in 130nm PMOS plots the effect of increasing $I_d$ (or lowering $V_T$) with increasing $T$ is more pronounced than 130nm NMOS. And this is due to lower channel length modulation effect $(1/\\lambda)$ in PMOS transistors than in NMOS transistors."
   ]
  },
  {
   "cell_type": "markdown",
   "id": "charming-governor",
   "metadata": {},
   "source": [
    "<br><hr>\n",
    "# Part III: 130nm NMOS model parameter extraction <a class=\"anchor\" id=\"section_3\"></a>"
   ]
  },
  {
   "cell_type": "markdown",
   "id": "underlying-hepatitis",
   "metadata": {},
   "source": [
    "## Calculation of $T$ Parameters for $V_{th}$ (all units appropriated from nanoHUB's 'Nano-CMOS' compact model) <a class=\"anchor\" id=\"section_3_1\"></a>"
   ]
  },
  {
   "cell_type": "markdown",
   "id": "ddb2a45b-3ef5-4308-b1b6-0391360cd57d",
   "metadata": {},
   "source": [
    "<a id=\"eq3\"></a>\n",
    "$$\n",
    "\\begin{equation}\\tag{3}\n",
    "V_{\\text{th}}(T) = V_{\\text{th}}(\\text{TNOM}) + \\left(\\text{KT1} + \\frac{\\text{KT1L}}{L_{\\text{eff}}} + \\text{KT2}\\cdot V_{\\text{bs,eff}}\\right)\\cdot\\left(\\frac{T}{\\text{TNOM}}-1\\right)\n",
    "\\end{equation}\n",
    "$$ \n",
    "\n",
    "(as noted in page 105 of **[[2] BSIM 4.8.2 Technical Manual](http://bsim.berkeley.edu/models/bsim4/)**)\n",
    "\n",
    "where, <a id=\"eq4\"></a>\n",
    "$$\n",
    "\\begin{equation}\\tag{4}\n",
    "V_{\\text{bs,eff}} = V_{\\text{bc}} + 0.5\\cdot\\left[ \\left(V_{\\text{bs}} - V_{\\text{bc}} - 0.001\\right) + \\sqrt{\\left(V_{\\text{bs}} - V_{\\text{bc}} - 0.001\\right)^2 - 4\\cdot0.001\\cdot V_{\\text{bc}}} \\right]\n",
    "\\end{equation}\n",
    "$$\n",
    "\n",
    "(as noted in page 2-11 of **[[3] BSIM 4.3.0 Technical Manual](http://bsim.berkeley.edu/models/bsim4/)**)\n",
    "\n",
    "where, <a id=\"eq5\"></a>\n",
    "$$\n",
    "\\begin{equation}\\tag{5}\n",
    "V_{\\text{bc}} = 0.9\\cdot\\left(\\Phi_s - \\frac{\\text{K1}^2}{4\\cdot\\text{K2}^2}\\right)\n",
    "\\end{equation}\n",
    "$$\n",
    "\n",
    "(as noted in page 2-11 of **[[3] BSIM 4.3.0 Technical Manual](http://bsim.berkeley.edu/models/bsim4/)**)\n",
    "\n",
    "where, <a id=\"eq6\"></a>\n",
    "$$\n",
    "\\begin{equation}\\tag{6}\n",
    "\\Phi_s = 0.4 + \\frac{k_B\\cdot T}{q}\\ln\\left(\\frac{\\text{NDEP}}{n_i}\\right) + \\text{PHIN}\n",
    "\\end{equation}\n",
    "$$\n",
    "\n",
    "(as noted in Note-2 of Appendix A-31 of **[[3] BSIM 4.3.0 Technical Manual](http://bsim.berkeley.edu/models/bsim4/)**)\n",
    "\n",
    "where, <a id=\"eq7\"></a>\n",
    "$$\n",
    "\\begin{equation}\\tag{7}\n",
    "n_i = 1.45e10\\cdot \\left(\\frac{\\text{T}}{300.15}\\right)^{\\!3/2}\\cdot\\exp\\left(\\left[21.5565981 - \\frac{q\\cdot E_g(T)}{2\\cdot k_B\\cdot T} \\right] \\right)\n",
    "\\end{equation}\n",
    "$$\n",
    "\n",
    "(as noted in page 112 of **[[2] BSIM 4.8.2 Technical Manual](http://bsim.berkeley.edu/models/bsim4/)**)\n",
    "\n",
    "where, <a id=\"eq8\"></a>\n",
    "$$\n",
    "\\begin{equation}\\tag{8}\n",
    "E_g(T) = 1.16 - \\frac{7.02\\times 10^{-4}\\times T^2}{T + 1108}\n",
    "\\end{equation}\n",
    "$$\n",
    "\n",
    "(as noted in page 112 of **[[2] BSIM 4.8.2 Technical Manual](http://bsim.berkeley.edu/models/bsim4/)**)\n",
    "\n",
    "where, <a id=\"eq9\"></a>\n",
    "$$\n",
    "\\begin{equation}\\tag{9}\n",
    "\\text{TNOM} = 300 \\text{, } \\text{PHIN} = 0 \\text{, }  L_{\\text{eff}} = 49 \\text{, } V_{\\text{bs}} = 0\n",
    "\\end{equation}\n",
    "$$\n",
    "\n",
    "(which are defaults of the Nano-CMOS compact model)"
   ]
  },
  {
   "cell_type": "code",
   "execution_count": 2,
   "id": "26d34c3a-160c-4bfe-ac42-adeccff720a9",
   "metadata": {},
   "outputs": [],
   "source": [
    "from scipy.constants import k,e\n",
    "\n",
    "TNOM, PHIN, Leff, VBS = 300, 0, 49, 0 # Nano-CMOS compact model presets, as collated in eq (9)\n",
    "kB, q = k, e # natural constants\n",
    "kt1, kt1l, kt2, k2 = -0.11, 0, 0.022, 0.01  # Nano-CMOS compact model constant parameter extracts"
   ]
  },
  {
   "cell_type": "code",
   "execution_count": 3,
   "id": "d1fa0f98-0aa6-4d6b-aa3c-5528235d942e",
   "metadata": {},
   "outputs": [],
   "source": [
    "class VThreshold: \n",
    "    def __init__(self, vth0:float, k1:float, T:float, NDEP:float): \n",
    "        self.vth0 = vth0\n",
    "        self.kt1 = kt1\n",
    "        self.kt1l = kt1l\n",
    "        self.kt2 = kt2\n",
    "        self.Leff = Leff\n",
    "        self.TNOM = TNOM\n",
    "        self.T = T\n",
    "        self.PHIN = PHIN\n",
    "        self.VBS = VBS\n",
    "        self.NDEP = NDEP\n",
    "        self.k1 = k1\n",
    "        self.k2 = k2\n",
    "        self.kB = kB\n",
    "        self.q = q\n",
    "\n",
    "    def Eg(self) -> float:\n",
    "        # calculates Energy-band gap of Silicon according to eq (6)\n",
    "        x = 1.16 - (7.02*1e-4*self.T**2)/(self.T+1108)\n",
    "        return x\n",
    "    \n",
    "    def ni(self) -> float:\n",
    "        # calculates intrinsic carrier concentration according to eq (5)\n",
    "        x = 1.45e10*((self.T/300.15)**1.5)*math.exp(21.5565981-((self.q*VThreshold.Eg(self))/(2*self.kB*self.T)))\n",
    "        return x\n",
    "\n",
    "    def PhiS(self) -> float:\n",
    "        # calculates surface potential along the channel according to eq (4) \n",
    "        x = 0.4 + ((self.kB*self.T)/self.q)*math.log(self.NDEP/VThreshold.ni(self)) + self.PHIN\n",
    "        return x\n",
    "\n",
    "    def VBC(self) -> float:\n",
    "        # calculates VBC according to eq (3)\n",
    "        x = 0.9*(VThreshold.PhiS(self) - ((self.k1**2)/(4*self.k2**2)))\n",
    "        return x\n",
    "\n",
    "    def VBSEFF(self) -> float:\n",
    "        # calculates VBSEFF according to eq (2)\n",
    "        x = VThreshold.VBC(self) + 0.5*((self.VBS-VThreshold.VBC(self)-0.001)+(math.sqrt((self.VBS-VThreshold.VBC(self)-0.001)**2-(4*0.001*VThreshold.VBC(self)))))\n",
    "        return x\n",
    "\n",
    "    def VTH(self) -> float:\n",
    "        # calculates VTH as a function of T according to eq (1)\n",
    "        x = self.vth0 + (self.kt1+(self.kt1l/self.Leff)+(self.kt2*VThreshold.VBSEFF(self)))*((self.T/self.TNOM)-1)\n",
    "        return x  "
   ]
  },
  {
   "cell_type": "code",
   "execution_count": 4,
   "id": "73454d3f-c7c2-4d52-809b-bcb89cbcfd5f",
   "metadata": {},
   "outputs": [
    {
     "name": "stdout",
     "output_type": "stream",
     "text": [
      "Calculated V_T values (218K,300K,398K): 0.4010666666666667, 0.371,0.33506666666666707\n"
     ]
    }
   ],
   "source": [
    "print(f\"Calculated V_T values (218K,300K,398K): {VThreshold(T=218, vth0=0.371, NDEP=2.39e18, k1=0.58).VTH()}, {VThreshold(T=300, vth0=0.371, NDEP=1.5e18, k1=0.459).VTH()},\\\n",
    "{VThreshold(T=398, vth0=0.371, NDEP=9.2e17, k1=0.36).VTH()}\")"
   ]
  },
  {
   "cell_type": "markdown",
   "id": "02e817a6-e380-415c-bf3f-06675aa4b70d",
   "metadata": {},
   "source": [
    "<u><center> Table summarising $T$ parameter extracts from Nano-CMOS compact model relating to $V_{th}$ </center></u>"
   ]
  },
  {
   "cell_type": "markdown",
   "id": "2a9d5552-6d60-42b2-b3ee-09777d788cf1",
   "metadata": {},
   "source": [
    "| $$T~(K)$$ | $$vth0~(V)$$ $$(\\text{with }V_{bs}=0)$$ | $$V_{th}(\\text{TNOM})~(V)$$ $$\\text{or vth0 @ T=TNOM}$$ | $$kt1~(V)$$ | $$kt1l~(V\\cdot m)$$ | $$kt2$$ | $$NDEP~(\\text{cm}^{-3})$$ | $$k1~(V^{0.5})$$ | k2 |\n",
    "|:-:|:-:|:-:|:-:|:-:|:-:|:-:|:-:|:-:|\n",
    "| $218$ | 0.289 | 0.371 | -0.11 | 0 | 0.022 | 2.39e18 | 0.58  | 0.01 |\n",
    "| $300$ | 0.371 | 0.371 | -0.11 | 0 | 0.022 | 1.5e18 | 0.459 | 0.01 |\n",
    "| $398$ | 0.46 | 0.371 | -0.11 | 0 | 0.022 | 9.2e17 | 0.36 | 0.01 |"
   ]
  },
  {
   "cell_type": "code",
   "execution_count": 5,
   "id": "ef2fd2e5-58ad-4603-9815-8edd905d4c73",
   "metadata": {},
   "outputs": [
    {
     "data": {
      "text/plain": [
       "Text(0, 0.5, '$V_{th} (V)$')"
      ]
     },
     "execution_count": 5,
     "metadata": {},
     "output_type": "execute_result"
    },
    {
     "data": {
      "image/png": "[encoded data removed]",
      "text/plain": [
       "<Figure size 500x200 with 1 Axes>"
      ]
     },
     "metadata": {},
     "output_type": "display_data"
    }
   ],
   "source": [
    "fig,axes = plt.subplots(figsize=(5,2))\n",
    "fig.suptitle('Dependence of Threshold Voltage ($V_{th}$) on Temperature ($T$)')\n",
    "plt.scatter([218,300,398],[VThreshold(T=218, vth0=0.371, NDEP=2.39e18, k1=0.58).VTH(),VThreshold(T=300, vth0=0.371, NDEP=1.5e18, k1=0.459).VTH(),\\\n",
    "                           VThreshold(T=398, vth0=0.371, NDEP=9.2e17, k1=0.36).VTH()],label='$V_{th}$ (calculated from $T$ parameters)')\n",
    "axes.legend(bbox_to_anchor=(1, 1), loc=\"upper left\")\n",
    "axes.set_xlabel('$T (K)$')\n",
    "axes.set_ylabel('$V_{th} (V)$')"
   ]
  },
  {
   "cell_type": "markdown",
   "id": "massive-calcium",
   "metadata": {},
   "source": [
    "### Summary <a class=\"anchor\" id=\"section_3_1_1\"></a>\n",
    "\n",
    "1. The $V_{th}(T)$ shifts for 130nm NMOS calculated from the $T$ parameter extracts using [Eq. (3)](#eq3) - [Eq. (9)](#eq9) and as plotted above, are in line with a decreasing $V_T$ with increasing $T$ as can be seen in the simulated Output IV and Transfer IV curves of **[Part I](#section_1_1)** and **[Part II](#section_2_1)**."
   ]
  },
  {
   "cell_type": "markdown",
   "id": "agreed-programmer",
   "metadata": {},
   "source": [
    "## Calculation of $T$ Parameters for $\\mu$ (all units appropriated from 'Nano-CMOS' compact model, $TEMPMOD/MOBMOD = 0$) <a class=\"anchor\" id=\"section_3_2\"></a>"
   ]
  },
  {
   "cell_type": "markdown",
   "id": "1e95dfe2-a4f0-4ca5-b467-11d1ef595d9b",
   "metadata": {},
   "source": [
    "<a id=\"eq10\"></a>\n",
    "$$\n",
    "\\begin{equation}\\tag{10}\n",
    "U0(T) = U0(\\text{TNOM})\\cdot\\left(\\frac{T}{\\text{TNOM}}\\right)^{\\text{UTE}}\n",
    "\\end{equation}\n",
    "$$\n",
    "\n",
    "<a id=\"eq11\"></a>\n",
    "$$\n",
    "\\begin{equation}\\tag{11}\n",
    "UA(T) = UA(\\text{TNOM})+UA1\\cdot\\left(\\frac{T}{\\text{TNOM}}-1\\right)\n",
    "\\end{equation}\n",
    "$$\n",
    "\n",
    "<a id=\"eq12\"></a>\n",
    "$$\n",
    "\\begin{equation}\\tag{12}\n",
    "UB(T) = UB(\\text{TNOM})+UB1\\cdot\\left(\\frac{T}{\\text{TNOM}}-1\\right)\n",
    "\\end{equation}\n",
    "$$\n",
    "\n",
    "<a id=\"eq13\"></a>\n",
    "$$\n",
    "\\begin{equation}\\tag{13}\n",
    "UC(T) = UC(\\text{TNOM})+UC1\\cdot\\left(\\frac{T}{\\text{TNOM}}-1\\right)\n",
    "\\end{equation}\n",
    "$$\n",
    "\n",
    "([Eqs. (10)](#eq10) - [(13)](#eq13) as noted in page 106 of **[[2] BSIM 4.8.2 Technical Manual](http://bsim.berkeley.edu/models/bsim4/)**)"
   ]
  },
  {
   "cell_type": "code",
   "execution_count": 6,
   "id": "78e4a9a7-d3fc-44bd-b8d0-457911dbc3f3",
   "metadata": {},
   "outputs": [],
   "source": [
    "ute, ua, ua1, ub, ub1, uc, uc1, TNOM = -1.5, 6e-10, 4.31e-9, 1.2e-18, 7.61e-18, 0, -5.6e-11, 300  # Nano-CMOS compact model constant parameter extracts"
   ]
  },
  {
   "cell_type": "code",
   "execution_count": 7,
   "id": "85779389-3305-479c-a790-a188e3c8cfd2",
   "metadata": {},
   "outputs": [],
   "source": [
    "class mu: \n",
    "    def __init__(self, u0:float, T:float): \n",
    "        self.u0 = u0\n",
    "        self.ute = ute\n",
    "        self.ua = ua\n",
    "        self.ua1 = ua1\n",
    "        self.ub = ub\n",
    "        self.ub1 = ub1\n",
    "        self.uc = uc\n",
    "        self.uc1 = uc1\n",
    "        self.TNOM = TNOM\n",
    "        self.T = T\n",
    "    \n",
    "    def mu0(self) -> float:\n",
    "        # calculates Low-field mobility according to eq (8)\n",
    "        x = self.u0*((self.T/self.TNOM)**self.ute)\n",
    "        return x\n",
    "    \n",
    "    def mua(self) -> float:\n",
    "        # calculates `Coefficient of first-order mobility degradation due to vertical field' according to eq (9)\n",
    "        x = self.ua + ua1*((self.T/self.TNOM)-1)\n",
    "        return x\n",
    "\n",
    "    def mub(self) -> float:\n",
    "        # calculates `Coefficient of secon-order mobility degradation due to vertical field' according to eq (10) \n",
    "        x = self.ub + ub1*((self.T/self.TNOM)-1)\n",
    "        return x\n",
    "\n",
    "    def muc(self) -> float:\n",
    "        # calculates `Coefficient of mobility degradation due to body-bias effect' according to eq (11)\n",
    "        x = self.uc + uc1*((self.T/self.TNOM)-1)\n",
    "        return x"
   ]
  },
  {
   "cell_type": "code",
   "execution_count": 8,
   "id": "92b4eb74-9831-4ae6-b657-cac183e0b245",
   "metadata": {},
   "outputs": [
    {
     "name": "stdout",
     "output_type": "stream",
     "text": [
      "Calculated u0 values (218K,300K,398K): 0.09652186284786184,0.05979,0.039127835808042494\n",
      "Calculated ua values (218K,300K,398K): -5.780666666666668e-10,6e-10,2.0079333333333334e-09\n",
      "Calculated ub values (218K,300K,398K): -8.800666666666667e-19,1.2e-18,3.685933333333333e-18\n",
      "Calculated uc values (218K,300K,398K): 1.5306666666666665e-11,0.0,-1.8293333333333334e-11\n"
     ]
    }
   ],
   "source": [
    "print(f\"Calculated u0 values (218K,300K,398K): {mu(T=218, u0=0.05979).mu0()},{mu(T=300, u0=0.05979).mu0()},{mu(T=398, u0=0.05979).mu0()}\")\n",
    "print(f\"Calculated ua values (218K,300K,398K): {mu(T=218, u0=0.05979).mua()},{mu(T=300, u0=0.05979).mua()},{mu(T=398, u0=0.05979).mua()}\")\n",
    "print(f\"Calculated ub values (218K,300K,398K): {mu(T=218, u0=0.05979).mub()},{mu(T=300, u0=0.05979).mub()},{mu(T=398, u0=0.05979).mub()}\")\n",
    "print(f\"Calculated uc values (218K,300K,398K): {mu(T=218, u0=0.05979).muc()},{mu(T=300, u0=0.05979).muc()},{mu(T=398, u0=0.05979).muc()}\")\n",
    "#Note that ua/ub/uc~0"
   ]
  },
  {
   "cell_type": "markdown",
   "id": "623e7e23-b3aa-4a02-a011-0cd8eb5cf3cc",
   "metadata": {},
   "source": [
    "<u><center> Table summarising $T$ parameter extracts from Nano-CMOS compact model relating to $\\mu$ </center></u>"
   ]
  },
  {
   "cell_type": "markdown",
   "id": "f694abf2-1d3c-46ef-8338-134a2603e82a",
   "metadata": {},
   "source": [
    "| $$T~(K)$$ | $$u0~(m^2/V\\cdot s)$$ | $$\\text{u0(TNOM) }(m^2/V\\cdot s)$$ $$\\text{or u0 @ T = TNOM}$$ | $$ute$$ | $$ua~(m/V)$$ | $$ua1~(m/V)$$ | $$ub~(m^2/V^2)$$ | $$ub1~(m^2/V^2)$$ | $$uc~(m/V^2)$$ | $$uc1~(m/V^2)$$ |\n",
    "|:-:|:-:|:-:|:-:|:-:|:-:|:-:|:-:|:-:|:-:|\n",
    "| $218$ | 0.05036 | 0.05979 | -1.5 | 6e-10 | 4.31e-9 | 1.2e-18 | 7.61e-18 | 0 | -5.6e-11 |\n",
    "| $300$ | 0.05979 | 0.05979  | -1.5 | 6e-10 | 4.31e-9 | 1.2e-18 | 7.61e-18 | 0 | -5.6e-11 |\n",
    "| $398$ | 0.0689 | 0.05979 | -1.5 | 6e-10 | 4.31e-9 | 1.2e-18 | 7.61e-18 | 0 | -5.6e-11 |"
   ]
  },
  {
   "cell_type": "code",
   "execution_count": 9,
   "id": "ebddc22a-0a40-41b4-aed1-05b62845d6f2",
   "metadata": {},
   "outputs": [
    {
     "data": {
      "text/plain": [
       "Text(0, 0.5, '$\\\\mu$')"
      ]
     },
     "execution_count": 9,
     "metadata": {},
     "output_type": "execute_result"
    },
    {
     "data": {
      "image/png": "[encoded data removed]",
      "text/plain": [
       "<Figure size 400x500 with 1 Axes>"
      ]
     },
     "metadata": {},
     "output_type": "display_data"
    }
   ],
   "source": [
    "fig,axes = plt.subplots(figsize=(4,5))\n",
    "fig.suptitle('Dependence of Mobility ($\\mu 0$, $\\mu a$, $\\mu b$, $\\mu c$) on Temperature ($T$)')\n",
    "plt.scatter([218,300,398],[mu(T=218, u0=0.05979).mu0(), mu(T=300, u0=0.05979).mu0(), mu(T=398, u0=0.05979).mu0()],label='$\\mu_0$ ($m^2/V\\cdot s$ as calculated from $T$ parameters)')\n",
    "plt.scatter([218,300,398],[mu(T=218, u0=0.05979).mua(), mu(T=300, u0=0.05979).mua(), mu(T=398, u0=0.05979).mua()],label='$\\mu_a$ ($m/V$ as calculated from $T$ parameters)')\n",
    "plt.scatter([218,300,398],[mu(T=218, u0=0.05979).mub(), mu(T=300, u0=0.05979).mub(), mu(T=398, u0=0.05979).mub()],label='$\\mu_b$ ($m^2/V^2$ as calculated from $T$ parameters)')\n",
    "plt.scatter([218,300,398],[mu(T=218, u0=0.05979).muc(), mu(T=300, u0=0.05979).muc(), mu(T=398, u0=0.05979).muc()],label='$\\mu_c$ ($m/V^2$ as calculated from $T$ parameters)')\n",
    "plt.yscale('log')\n",
    "axes.legend(bbox_to_anchor=(1, 1), loc=\"upper left\")\n",
    "axes.set_xlabel('$T (K)$')\n",
    "axes.set_ylabel('$\\mu$')"
   ]
  },
  {
   "cell_type": "markdown",
   "id": "exclusive-bermuda",
   "metadata": {},
   "source": [
    "### Summary <a class=\"anchor\" id=\"section_3_2_1\"></a>\n",
    "\n",
    "1. Mobility $(\\mu_0)$ decreases with increasing $T$ while mobility coefficients $(\\mu_a, \\mu_b, \\mu_c)$ increase with $T$. This is due to an incresing scattering of charge carriers with increasing $T$ inside the MOS channel lattice. \n",
    "2. This effect cannot be seen qualitatively in the plots of **[Section 1](#section_1_1)** and **[Section 2](#section_2_1)**, which is due to other competing effects like channel length modulation and lowering $V_T$ with increasing $T$."
   ]
  },
  {
   "cell_type": "markdown",
   "id": "adjacent-spirituality",
   "metadata": {},
   "source": [
    "<br><hr>\n",
    "# Part IV: 45nm NMOS corner simulations <a class=\"anchor\" id=\"section_4\"></a>"
   ]
  },
  {
   "cell_type": "markdown",
   "id": "de87f9d0-8177-438d-b738-09b6d95c98ad",
   "metadata": {},
   "source": [
    "### <u><center> Table summarising Process Variability-Sensitive Global Device Parameter extracts from Nano-CMOS compact model relating to corner simulations </center></u>\n",
    "(parameters as noted in Table 8.2 of  **[[1]](https://library.oapen.org/viewer/web/viewer.html?file=/bitstream/handle/20.500.12657/25859/1004227.pdf?sequence=1&isAllowed=y)**)"
   ]
  },
  {
   "cell_type": "markdown",
   "id": "0165109e-8323-468f-a384-b078e4ec0268",
   "metadata": {},
   "source": [
    "| $$\\text{Corner}$$ $$\\text{Modeling}$$ | $$vth0~(V)$$ | $$xl~(m)$$ | $$toxe/toxm~(m)$$  | $$u0~(m^2/V\\cdot s)$$ | $$k1~(V^{1/2})$$ | $$rdsw~(\\Omega (\\mu m)^{WR})$$ | $$cgsl/cgdl~(F/m)$$ | $$cgso/cgdo~(F/m)$$ | $$cjs/cjd~(F/m^2)$$ | $$cjsws/cjswd~(F/m)$$ | $$cjswgs/cjswgd~(F/m)$$ |\n",
    "|:-:|:-:|:-:|:-:|:-:|:-:|:-:|:-:|:-:|:-:|:-:|:-:|\n",
    "| Nominal | 0.41 | -2e-8 | 1.75-9 | 0.04805 | 0.477 | 150 | 2.653e-10 | 1.1e-10 | 0.0005 | 5e-10 | 3e-10/5e-10 |\n",
    "| Fast-Fast | 0.379 | -2e-8 | 1.75-9 | 0.05045 | 0.45 | 150 | 2.653e-10 | 1.1e-10 | 0.0005 | 5e-10 | 3e-10/5e-10 |\n",
    "| Slow-Slow | 0.439 | -2e-8 | 1.75-9 | 0.04588 | 0.502 | 150 | 2.653e-10 | 1.1e-10 | 0.0005 | 5e-10 | 3e-10/5e-10 |"
   ]
  },
  {
   "cell_type": "markdown",
   "id": "d7603523-e457-4cba-a1c2-1e4e3d0f2875",
   "metadata": {},
   "source": [
    "### Summary <a class=\"anchor\" id=\"section_4_1_1\"></a>\n",
    "\n",
    "1. Since the only varying parameters in the table above are vth0, u0 and k1; key Nano-CMOS compact model parameters for the Nominal, Fast-Fast and Slow-Slow corners are: vth0, u0 and k1."
   ]
  },
  {
   "cell_type": "markdown",
   "id": "assisted-milton",
   "metadata": {},
   "source": [
    "<br><hr>\n",
    "# References"
   ]
  },
  {
   "cell_type": "markdown",
   "id": "answering-closing",
   "metadata": {},
   "source": [
    "* [1] **[Compact Models For Integrated Circuit Design - Samar K. Saha](https://library.oapen.org/viewer/web/viewer.html?file=/bitstream/handle/20.500.12657/25859/1004227.pdf?sequence=1&isAllowed=y)**\n",
    "* [2] **[BSIM 4.8.2 Technical Manual](http://bsim.berkeley.edu/models/bsim4/)**\n",
    "* [3] **[BSIM 4.3.0 Technical Manual](http://bsim.berkeley.edu/models/bsim4/)**"
   ]
  },
  {
   "cell_type": "markdown",
   "id": "juvenile-times",
   "metadata": {},
   "source": [
    "<br><hr>\n",
    "# Additional information"
   ]
  },
  {
   "cell_type": "markdown",
   "id": "surrounded-chambers",
   "metadata": {},
   "source": [
    "<b>Created by:</b> Rochish Manda, MSc KTH\n",
    "\n",
    "<b>IH2653 Examiner:</b> Dr. Gunnar Malm, Professor KTH\n",
    "\n",
    "<b>Data and config files at:</b> **[Github](https://github.com/Rochish-Manda/IH2653/)**"
   ]
  }
 ],
 "metadata": {
  "kernelspec": {
   "display_name": "hw1k",
   "language": "python",
   "name": "hw1k"
  },
  "language_info": {
   "codemirror_mode": {
    "name": "ipython",
    "version": 3
   },
   "file_extension": ".py",
   "mimetype": "text/x-python",
   "name": "python",
   "nbconvert_exporter": "python",
   "pygments_lexer": "ipython3",
   "version": "3.11.4"
  }
 },
 "nbformat": 4,
 "nbformat_minor": 5
}
